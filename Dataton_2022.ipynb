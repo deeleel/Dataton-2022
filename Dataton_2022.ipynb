{
 "cells": [
  {
   "cell_type": "markdown",
   "id": "e337cf1a",
   "metadata": {},
   "source": [
    "### Вайлдберис"
   ]
  },
  {
   "cell_type": "markdown",
   "id": "bd7372c9",
   "metadata": {},
   "source": [
    "Парсим список ноутов из каталога + общую инфу (цена, id и т.п.)"
   ]
  },
  {
   "cell_type": "code",
   "execution_count": 2,
   "id": "217f4f1e",
   "metadata": {},
   "outputs": [
    {
     "name": "stdout",
     "output_type": "stream",
     "text": [
      "Данные сохранены в wb_catalogs_data_sample.json\n",
      "найдено совпадение: Ноутбуки\n",
      "Сбор позиций со страницы 1 из 100\n",
      "Добавлено позиций: 100\n",
      "Сбор позиций со страницы 2 из 100\n",
      "Добавлено позиций: 100\n",
      "Сбор позиций со страницы 3 из 100\n",
      "Добавлено позиций: 100\n",
      "Сбор позиций со страницы 4 из 100\n",
      "Добавлено позиций: 100\n",
      "Сбор позиций со страницы 5 из 100\n",
      "Добавлено позиций: 100\n",
      "Сбор позиций со страницы 6 из 100\n",
      "Добавлено позиций: 100\n",
      "Сбор позиций со страницы 7 из 100\n",
      "Добавлено позиций: 100\n",
      "Сбор позиций со страницы 8 из 100\n",
      "Добавлено позиций: 100\n",
      "Сбор позиций со страницы 9 из 100\n",
      "Добавлено позиций: 84\n",
      "Сбор позиций со страницы 10 из 100\n",
      "Добавлено позиций: 0\n",
      "Сбор данных завершен.\n",
      "Ошибка! Вы забыли закрыть созданный ранее excel файл. Закройте и повторите попытку\n"
     ]
    }
   ],
   "source": [
    "import requests\n",
    "import json\n",
    "import pandas as pd\n",
    "\n",
    "\n",
    "\"\"\"\n",
    "Парсер wildberries по ссылке на каталог (указывать без фильтров)\n",
    "Парсер не идеален, есть множество вариантов реализации, со своими идеями \n",
    "и предложениями обязательно пишите мне, либо в группу, ссылка ниже.\n",
    "Подробное описание парсера Вайлдберриз можно почитать на сайте:\n",
    "https://happypython.ru/2022/07/21/парсер-wildberries/\n",
    "Ссылка на статью ВКонтакте: https://vk.com/@happython-parser-wildberries\n",
    "По всем возникшим вопросам, можете писать в группу https://vk.com/happython\n",
    "парсер wildberries по каталогам 2022, обновлен 19.10.2022 - на данное число работает исправно\n",
    "\"\"\"\n",
    "\n",
    "\n",
    "def get_catalogs_wb():\n",
    "    \"\"\"получение каталога вб\"\"\"\n",
    "    url = 'https://www.wildberries.ru/webapi/menu/main-menu-ru-ru.json'\n",
    "    headers = {'Accept': \"*/*\", 'User-Agent': \"Mozilla/5.0 (Windows NT 10.0; Win64; x64)\"}\n",
    "    response = requests.get(url, headers=headers)\n",
    "    data = response.json()\n",
    "    with open('wb_catalogs_data.json', 'w', encoding='UTF-8') as file:\n",
    "        json.dump(data, file, indent=2, ensure_ascii=False)\n",
    "        print(f'Данные сохранены в wb_catalogs_data_sample.json')\n",
    "    data_list = []\n",
    "    for d in data:\n",
    "        try:\n",
    "            for child in d['childs']:\n",
    "                try:\n",
    "                    category_name = child['name']\n",
    "                    category_url = child['url']\n",
    "                    shard = child['shard']\n",
    "                    query = child['query']\n",
    "                    data_list.append({\n",
    "                        'category_name': category_name,\n",
    "                        'category_url': category_url,\n",
    "                        'shard': shard,\n",
    "                        'query': query})\n",
    "                except:\n",
    "                    continue\n",
    "                try:\n",
    "                    for sub_child in child['childs']:\n",
    "                        category_name = sub_child['name']\n",
    "                        category_url = sub_child['url']\n",
    "                        shard = sub_child['shard']\n",
    "                        query = sub_child['query']\n",
    "                        data_list.append({\n",
    "                            'category_name': category_name,\n",
    "                            'category_url': category_url,\n",
    "                            'shard': shard,\n",
    "                            'query': query})\n",
    "                except:\n",
    "                    # print(f'не имеет дочерних каталогов *{i[\"name\"]}*')\n",
    "                    continue\n",
    "        except:\n",
    "            # print(f'не имеет дочерних каталогов *{d[\"name\"]}*')\n",
    "            continue\n",
    "    return data_list\n",
    "\n",
    "\n",
    "def search_category_in_catalog(url, catalog_list):\n",
    "    \"\"\"пишем проверку пользовательской ссылки на наличии в каталоге\"\"\"\n",
    "    try:\n",
    "        for catalog in catalog_list:\n",
    "            if catalog['category_url'] == url.split('https://www.wildberries.ru')[-1]:\n",
    "                print(f'найдено совпадение: {catalog[\"category_name\"]}')\n",
    "                name_category = catalog['category_name']\n",
    "                shard = catalog['shard']\n",
    "                query = catalog['query']\n",
    "                return name_category, shard, query\n",
    "            else:\n",
    "                # print('нет совпадения')\n",
    "                pass\n",
    "    except:\n",
    "        print('Данный раздел не найден!')\n",
    "\n",
    "\n",
    "def get_data_from_json(json_file):\n",
    "    \"\"\"извлекаем из json интересующие нас данные\"\"\"\n",
    "    data_list = []\n",
    "    for data in json_file['data']['products']:\n",
    "        try:\n",
    "            price = int(data[\"priceU\"] / 100)\n",
    "        except:\n",
    "            price = 0\n",
    "        data_list.append({\n",
    "            'Наименование': data['name'],\n",
    "            'id': data['id'],\n",
    "            'Скидка': data['sale'],\n",
    "            'Цена': price,\n",
    "            'Цена со скидкой': int(data[\"salePriceU\"] / 100),\n",
    "            'Бренд': data['brand'],\n",
    "            'id бренда': int(data['brandId']),\n",
    "            'feedbacks': data['feedbacks'],\n",
    "            'rating': data['rating'],\n",
    "            'Ссылка': f'https://www.wildberries.ru/catalog/{data[\"id\"]}/detail.aspx?targetUrl=BP'\n",
    "        })\n",
    "    return data_list\n",
    "\n",
    "\n",
    "def get_content(shard, query, low_price=None, top_price=None):\n",
    "    # вставляем ценовые рамки для уменьшения выдачи, вилбериес отдает только 100 страниц\n",
    "    headers = {'Accept': \"*/*\", 'User-Agent': \"Mozilla/5.0 (Windows NT 10.0; Win64; x64)\"}\n",
    "    data_list = []\n",
    "    for page in range(1, 101):\n",
    "        print(f'Сбор позиций со страницы {page} из 100')\n",
    "        # url = f'https://wbxcatalog-ru.wildberries.ru/{shard}' \\\n",
    "        #       f'/catalog?appType=1&curr=rub&dest=-1029256,-102269,-1278703,-1255563' \\\n",
    "        #       f'&{query}&lang=ru&locale=ru&sort=sale&page={page}' \\\n",
    "        #       f'&priceU={low_price * 100};{top_price * 100}'\n",
    "        url = f'https://catalog.wb.ru/catalog/{shard}/catalog?appType=1&curr=rub&dest=-1075831,-77677,-398551,12358499' \\\n",
    "              f'&locale=ru&page={page}&priceU={low_price * 100};{top_price * 100}' \\\n",
    "              f'&reg=0&regions=64,83,4,38,80,33,70,82,86,30,69,1,48,22,66,31,40&sort=popular&spp=0&{query}'\n",
    "        r = requests.get(url, headers=headers)\n",
    "        data = r.json()\n",
    "        print(f'Добавлено позиций: {len(get_data_from_json(data))}')\n",
    "        if len(get_data_from_json(data)) > 0:\n",
    "            data_list.extend(get_data_from_json(data))\n",
    "        else:\n",
    "            print(f'Сбор данных завершен.')\n",
    "            break\n",
    "    return data_list\n",
    "\n",
    "\n",
    "def save_excel(data, filename):\n",
    "    \"\"\"сохранение результата в excel файл\"\"\"\n",
    "    df = pd.DataFrame(data)\n",
    "    writer = pd.ExcelWriter(f'{filename}.xlsx')\n",
    "    df.to_excel(writer, 'data')\n",
    "    writer.save()\n",
    "    print(f'Все сохранено в {filename}.xlsx')\n",
    "\n",
    "\n",
    "def parser(url, low_price, top_price):\n",
    "    # получаем список каталогов\n",
    "    catalog_list = get_catalogs_wb()\n",
    "    try:\n",
    "        # поиск введенной категории в общем каталоге\n",
    "        name_category, shard, query = search_category_in_catalog(url=url, catalog_list=catalog_list)\n",
    "        # сбор данных в найденном каталоге\n",
    "        data_list = get_content(shard=shard, query=query, low_price=low_price, top_price=top_price)\n",
    "        # сохранение найденных данных\n",
    "        save_excel(data_list, f'{name_category}_from_{low_price}_to_{top_price}')\n",
    "    except TypeError:\n",
    "        print('Ошибка! Возможно не верно указан раздел. Удалите все доп фильтры с ссылки')\n",
    "    except PermissionError:\n",
    "        print('Ошибка! Вы забыли закрыть созданный ранее excel файл. Закройте и повторите попытку')\n",
    "\n",
    "\n",
    "if __name__ == '__main__':\n",
    "    \"\"\"ссылку на каталог или подкаталог, указывать без фильтров (без ценовых, сортировки и тд.)\"\"\"\n",
    "    # url = input('Введите ссылку на категорию для сбора: ')\n",
    "    # low_price = int(input('Введите минимальную сумму товара: '))\n",
    "    # top_price = int(input('Введите максимульную сумму товара: '))\n",
    "\n",
    "    \"\"\"данные для теста. собераем товар с раздела велосипеды в ценовой категории от 50тыс, до 100тыс\"\"\"\n",
    "    url = 'https://www.wildberries.ru/catalog/elektronika/noutbuki-pereferiya/noutbuki-ultrabuki'\n",
    "    low_price = 5_000\n",
    "    top_price = 1_000_000\n",
    "\n",
    "    parser(url, low_price, top_price)"
   ]
  },
  {
   "cell_type": "markdown",
   "id": "3501ff2a",
   "metadata": {},
   "source": [
    "Теперь бежим по ссылкам на конкретные ноуты и стягиваем характеристики"
   ]
  },
  {
   "cell_type": "code",
   "execution_count": 18,
   "id": "ec8a3ce0",
   "metadata": {},
   "outputs": [],
   "source": [
    "from selenium import webdriver\n",
    "from selenium.webdriver.chrome.service import Service\n",
    "from webdriver_manager.chrome import ChromeDriverManager\n",
    "from bs4 import BeautifulSoup\n",
    "import time\n",
    "import random\n",
    "import json\n",
    "from csv import reader\n",
    "from tqdm import tqdm\n",
    "import re"
   ]
  },
  {
   "cell_type": "code",
   "execution_count": 29,
   "id": "963ad34a",
   "metadata": {},
   "outputs": [],
   "source": [
    "driver = webdriver.Chrome(service=Service(ChromeDriverManager().install()))"
   ]
  },
  {
   "cell_type": "markdown",
   "id": "1808e827",
   "metadata": {},
   "source": [
    "Из экселя сделаем csv с единственным столбцом ссылок на ноутбуки ('urls.csv'), т.е. оставим последний столбец и удалим заголовок"
   ]
  },
  {
   "cell_type": "code",
   "execution_count": 30,
   "id": "80beb3f8",
   "metadata": {
    "scrolled": true
   },
   "outputs": [
    {
     "name": "stderr",
     "output_type": "stream",
     "text": [
      "100%|████████████████████████████████████████████████████████████████████████████████| 881/881 [50:19<00:00,  3.43s/it]\n"
     ]
    }
   ],
   "source": [
    "results = {}\n",
    "\n",
    "with open('urls.csv', 'r') as file:\n",
    "    for line in tqdm(file.readlines()):\n",
    "        try:\n",
    "            url = line\n",
    "\n",
    "            #инициализируем словари для временного храниения информаци\n",
    "            seller = dict()\n",
    "            parameters = dict()\n",
    "\n",
    "            driver.get(url=url)\n",
    "\n",
    "            #даем странице время прогрузиться\n",
    "            time.sleep(2 + 2 * random.random())\n",
    "\n",
    "            #объект bs4 для парсинга\n",
    "            soup = BeautifulSoup(driver.page_source, 'lxml')\n",
    "\n",
    "            #вытаскиваем параметры из таблицы \"О товаре\"\n",
    "            product_parameters = soup.body.main.find_all('div',class_=\"product-params\")[-1].find_all('table')\n",
    "\n",
    "            for table in product_parameters:\n",
    "                temp_param = dict()\n",
    "                for row in table.find_all('tr'):\n",
    "                    temp_param[row.th.text.strip()] = row.td.text.strip()\n",
    "\n",
    "                parameters[table.caption.text] = temp_param\n",
    "            \n",
    "            parameters['url'] = line\n",
    "            product_header = soup.body.main.find_all('div',class_=\"product-page__header\")[0].find_all('h1')[0].text\n",
    "            results[product_header] = parameters\n",
    "        except:\n",
    "            continue\n"
   ]
  },
  {
   "cell_type": "code",
   "execution_count": 31,
   "id": "01aef4a2",
   "metadata": {},
   "outputs": [],
   "source": [
    "#Запишем результат в файл json\n",
    "fp = open('wildberries.json', 'a')\n",
    "js = json.dumps(results)\n",
    "fp.write(js)\n",
    "fp.close()"
   ]
  },
  {
   "cell_type": "code",
   "execution_count": 32,
   "id": "a9b22b2d",
   "metadata": {},
   "outputs": [
    {
     "data": {
      "text/plain": [
       "794"
      ]
     },
     "execution_count": 32,
     "metadata": {},
     "output_type": "execute_result"
    }
   ],
   "source": [
    "len(results)"
   ]
  },
  {
   "cell_type": "markdown",
   "id": "e96d794f",
   "metadata": {},
   "source": [
    "### Сбермаркет"
   ]
  },
  {
   "cell_type": "markdown",
   "id": "5f92e849",
   "metadata": {},
   "source": [
    "В файле 'urls_sbmm.csv' должны быть только url без заголовка (по аналогии с ВБ)"
   ]
  },
  {
   "cell_type": "code",
   "execution_count": 23,
   "id": "b62caf5b",
   "metadata": {},
   "outputs": [
    {
     "name": "stderr",
     "output_type": "stream",
     "text": [
      "100%|████████████████████████████████████████████████████████████████████████████| 2694/2694 [5:55:40<00:00,  7.92s/it]\n"
     ]
    }
   ],
   "source": [
    "results_sbmm = {}\n",
    "line_num = 0\n",
    "with open('urls_sbmm.csv', 'r') as file:\n",
    "    for line in tqdm(file.readlines()):\n",
    "        try:\n",
    "            url = line\n",
    "\n",
    "            #инициализируем словари для временного храниения информаци\n",
    "            seller = dict()\n",
    "            parameters = dict()\n",
    "\n",
    "            driver.get(url=url)\n",
    "\n",
    "            #даем странице время прогрузиться\n",
    "            time.sleep(2 + 2 * random.random())\n",
    "\n",
    "            #объект bs4 для парсинга\n",
    "            soup = BeautifulSoup(driver.page_source, 'lxml')\n",
    "            \n",
    "            #вытаскиваем параметры из таблицы \"О товаре\"\n",
    "            product_parameters = (soup.body.main.find_all('div',class_='pdp-specs__list')\n",
    "                                  )\n",
    "            #\n",
    "            parameters = dict()\n",
    "            for table in product_parameters[0].find_all(class_='pdp-specs__group-info'):\n",
    "                #print(table)\n",
    "                for row in table.find_all(class_=re.compile('^pdp-specs__item-')):\n",
    "                    if row['class'][0] == 'pdp-specs__item-name':\n",
    "                        param_name = row.text.strip()\n",
    "                    elif row['class'][0] == 'pdp-specs__item-value':\n",
    "                        param_value = row.text.strip()\n",
    "                        parameters[param_name] = param_value\n",
    "                        \n",
    "            product_url = url\n",
    "            results_sbmm[product_url] = parameters\n",
    "            \n",
    "        except:\n",
    "            continue"
   ]
  },
  {
   "cell_type": "code",
   "execution_count": 24,
   "id": "e8a04885",
   "metadata": {
    "scrolled": false
   },
   "outputs": [
    {
     "data": {
      "text/plain": [
       "2666"
      ]
     },
     "execution_count": 24,
     "metadata": {},
     "output_type": "execute_result"
    }
   ],
   "source": [
    "len(results_sbmm)"
   ]
  },
  {
   "cell_type": "code",
   "execution_count": 25,
   "id": "2d89e518",
   "metadata": {},
   "outputs": [],
   "source": [
    "#Запишем результат в файл json\n",
    "fp = open('sbmm.json', 'a')\n",
    "js = json.dumps(results_sbmm)\n",
    "fp.write(js)\n",
    "fp.close()"
   ]
  },
  {
   "cell_type": "code",
   "execution_count": null,
   "id": "0764817c",
   "metadata": {},
   "outputs": [],
   "source": []
  }
 ],
 "metadata": {
  "kernelspec": {
   "display_name": "Python 3",
   "language": "python",
   "name": "python3"
  },
  "language_info": {
   "codemirror_mode": {
    "name": "ipython",
    "version": 3
   },
   "file_extension": ".py",
   "mimetype": "text/x-python",
   "name": "python",
   "nbconvert_exporter": "python",
   "pygments_lexer": "ipython3",
   "version": "3.8.8"
  }
 },
 "nbformat": 4,
 "nbformat_minor": 5
}
